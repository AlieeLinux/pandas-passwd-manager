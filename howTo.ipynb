{
 "cells": [
  {
   "cell_type": "code",
   "execution_count": 1,
   "id": "0ee161df-30d0-42ef-b977-a011be7d6b0d",
   "metadata": {},
   "outputs": [
    {
     "name": "stdout",
     "output_type": "stream",
     "text": [
      "\n"
     ]
    }
   ],
   "source": [
    "from utils import Password, Encryption"
   ]
  },
  {
   "cell_type": "code",
   "execution_count": 2,
   "id": "36fe6f89-f673-4eee-b85a-04a0efe8a7d0",
   "metadata": {},
   "outputs": [],
   "source": [
    "import pandas as pd"
   ]
  },
  {
   "cell_type": "code",
   "execution_count": null,
   "id": "25419cab-a40e-4904-b25e-e3869e0b0642",
   "metadata": {},
   "outputs": [],
   "source": []
  },
  {
   "cell_type": "code",
   "execution_count": 3,
   "id": "616a7dd1-6aa7-411c-91b9-341021a05792",
   "metadata": {},
   "outputs": [],
   "source": [
    "passwd = Password.Password()"
   ]
  },
  {
   "cell_type": "code",
   "execution_count": 4,
   "id": "28c513f9-7817-420c-8369-03f73e1ee7d5",
   "metadata": {},
   "outputs": [],
   "source": [
    "enc = Encryption.NewJob()"
   ]
  },
  {
   "cell_type": "code",
   "execution_count": null,
   "id": "5a57eed4-e85b-4e30-a273-26e5bf72aefd",
   "metadata": {},
   "outputs": [],
   "source": []
  },
  {
   "cell_type": "code",
   "execution_count": 5,
   "id": "f95b8db0-717c-4d9f-bf6c-538fe4b96a54",
   "metadata": {},
   "outputs": [
    {
     "data": {
      "text/html": [
       "<div>\n",
       "<style scoped>\n",
       "    .dataframe tbody tr th:only-of-type {\n",
       "        vertical-align: middle;\n",
       "    }\n",
       "\n",
       "    .dataframe tbody tr th {\n",
       "        vertical-align: top;\n",
       "    }\n",
       "\n",
       "    .dataframe thead th {\n",
       "        text-align: right;\n",
       "    }\n",
       "</style>\n",
       "<table border=\"1\" class=\"dataframe\">\n",
       "  <thead>\n",
       "    <tr style=\"text-align: right;\">\n",
       "      <th></th>\n",
       "      <th>user</th>\n",
       "      <th>website</th>\n",
       "      <th>password</th>\n",
       "    </tr>\n",
       "  </thead>\n",
       "  <tbody>\n",
       "    <tr>\n",
       "      <th>0</th>\n",
       "      <td>example</td>\n",
       "      <td>example</td>\n",
       "      <td>example</td>\n",
       "    </tr>\n",
       "    <tr>\n",
       "      <th>1</th>\n",
       "      <td>test</td>\n",
       "      <td>kernel.org</td>\n",
       "      <td>testing123</td>\n",
       "    </tr>\n",
       "    <tr>\n",
       "      <th>2</th>\n",
       "      <td>fb(Cyrus Troy)</td>\n",
       "      <td>FAcebook.com</td>\n",
       "      <td>b6e5nOECr17bdZdbuEwU1OP4Z-Mk2MI7xl4gYBUuvgg</td>\n",
       "    </tr>\n",
       "    <tr>\n",
       "      <th>3</th>\n",
       "      <td>AlieeLinux</td>\n",
       "      <td>Github</td>\n",
       "      <td>ILoveAiHoshino19</td>\n",
       "    </tr>\n",
       "    <tr>\n",
       "      <th>4</th>\n",
       "      <td>disperse2863@gmail.com</td>\n",
       "      <td>mail.google.com</td>\n",
       "      <td>DsImgCphJpegVpn235</td>\n",
       "    </tr>\n",
       "    <tr>\n",
       "      <th>5</th>\n",
       "      <td>ext234@outlook.com</td>\n",
       "      <td>outlook</td>\n",
       "      <td>ExtendedFourLinux</td>\n",
       "    </tr>\n",
       "    <tr>\n",
       "      <th>6</th>\n",
       "      <td>102995120043@r2.deped.gov.ph</td>\n",
       "      <td>Deped account</td>\n",
       "      <td>Wheniwasakidimanidiotkidlol111</td>\n",
       "    </tr>\n",
       "    <tr>\n",
       "      <th>7</th>\n",
       "      <td>Esa</td>\n",
       "      <td>funami.tech</td>\n",
       "      <td>OhMyShigure2332122</td>\n",
       "    </tr>\n",
       "    <tr>\n",
       "      <th>8</th>\n",
       "      <td>cyrustroy.c.bazar@isu.edu.ph</td>\n",
       "      <td>google.com</td>\n",
       "      <td>isudyante</td>\n",
       "    </tr>\n",
       "    <tr>\n",
       "      <th>9</th>\n",
       "      <td>mark albin</td>\n",
       "      <td>facebook.com</td>\n",
       "      <td>yv61vzWA7cEDnLVA58Il5xIFmcuG2df6ataBTLlNFNLp</td>\n",
       "    </tr>\n",
       "  </tbody>\n",
       "</table>\n",
       "</div>"
      ],
      "text/plain": [
       "                           user          website  \\\n",
       "0                       example          example   \n",
       "1                          test       kernel.org   \n",
       "2                fb(Cyrus Troy)     FAcebook.com   \n",
       "3                    AlieeLinux           Github   \n",
       "4        disperse2863@gmail.com  mail.google.com   \n",
       "5            ext234@outlook.com          outlook   \n",
       "6  102995120043@r2.deped.gov.ph    Deped account   \n",
       "7                           Esa      funami.tech   \n",
       "8  cyrustroy.c.bazar@isu.edu.ph       google.com   \n",
       "9                    mark albin     facebook.com   \n",
       "\n",
       "                                       password  \n",
       "0                                       example  \n",
       "1                                    testing123  \n",
       "2   b6e5nOECr17bdZdbuEwU1OP4Z-Mk2MI7xl4gYBUuvgg  \n",
       "3                              ILoveAiHoshino19  \n",
       "4                            DsImgCphJpegVpn235  \n",
       "5                             ExtendedFourLinux  \n",
       "6                Wheniwasakidimanidiotkidlol111  \n",
       "7                            OhMyShigure2332122  \n",
       "8                                     isudyante  \n",
       "9  yv61vzWA7cEDnLVA58Il5xIFmcuG2df6ataBTLlNFNLp  "
      ]
     },
     "execution_count": 5,
     "metadata": {},
     "output_type": "execute_result"
    }
   ],
   "source": [
    "passwd.ShowPasswords()"
   ]
  },
  {
   "cell_type": "code",
   "execution_count": 8,
   "id": "db7ac36c-ae8a-4989-bacc-538f9167bd4b",
   "metadata": {},
   "outputs": [
    {
     "ename": "SyntaxError",
     "evalue": "Your password is already encrypted!!! (<string>)",
     "output_type": "error",
     "traceback": [
      "Traceback \u001b[36m(most recent call last)\u001b[39m:\n",
      "  File \u001b[92m/usr/lib/python3.13/site-packages/IPython/core/interactiveshell.py:3549\u001b[39m in \u001b[95mrun_code\u001b[39m\n    exec(code_obj, self.user_global_ns, self.user_ns)\n",
      "  Cell \u001b[92mIn[8]\u001b[39m\u001b[92m, line 1\u001b[39m\n    enc.encryptpasswords()\n",
      "\u001b[36m  \u001b[39m\u001b[36mFile \u001b[39m\u001b[32m~/projects/pandas-passwd-manager/utils/Encryption.py:41\u001b[39m\u001b[36m in \u001b[39m\u001b[35mencryptpasswords\u001b[39m\n\u001b[31m    \u001b[39m\u001b[31mraise SyntaxError(\"Your password is already encrypted!!!\")\u001b[39m\n",
      "  \u001b[36mFile \u001b[39m\u001b[32m<string>\u001b[39m\n\u001b[31mSyntaxError\u001b[39m\u001b[31m:\u001b[39m Your password is already encrypted!!!\n"
     ]
    }
   ],
   "source": [
    "enc.encryptpasswords()"
   ]
  },
  {
   "cell_type": "code",
   "execution_count": 7,
   "id": "e3f313b3-49fe-436c-80c9-7b8346aa7a29",
   "metadata": {},
   "outputs": [
    {
     "data": {
      "text/html": [
       "<div>\n",
       "<style scoped>\n",
       "    .dataframe tbody tr th:only-of-type {\n",
       "        vertical-align: middle;\n",
       "    }\n",
       "\n",
       "    .dataframe tbody tr th {\n",
       "        vertical-align: top;\n",
       "    }\n",
       "\n",
       "    .dataframe thead th {\n",
       "        text-align: right;\n",
       "    }\n",
       "</style>\n",
       "<table border=\"1\" class=\"dataframe\">\n",
       "  <thead>\n",
       "    <tr style=\"text-align: right;\">\n",
       "      <th></th>\n",
       "      <th>user</th>\n",
       "      <th>website</th>\n",
       "      <th>password</th>\n",
       "    </tr>\n",
       "  </thead>\n",
       "  <tbody>\n",
       "    <tr>\n",
       "      <th>0</th>\n",
       "      <td>example</td>\n",
       "      <td>example</td>\n",
       "      <td>example</td>\n",
       "    </tr>\n",
       "    <tr>\n",
       "      <th>1</th>\n",
       "      <td>test</td>\n",
       "      <td>kernel.org</td>\n",
       "      <td>testing123</td>\n",
       "    </tr>\n",
       "    <tr>\n",
       "      <th>2</th>\n",
       "      <td>fb(Cyrus Troy)</td>\n",
       "      <td>FAcebook.com</td>\n",
       "      <td>b6e5nOECr17bdZdbuEwU1OP4Z-Mk2MI7xl4gYBUuvgg</td>\n",
       "    </tr>\n",
       "    <tr>\n",
       "      <th>3</th>\n",
       "      <td>AlieeLinux</td>\n",
       "      <td>Github</td>\n",
       "      <td>ILoveAiHoshino19</td>\n",
       "    </tr>\n",
       "    <tr>\n",
       "      <th>4</th>\n",
       "      <td>disperse2863@gmail.com</td>\n",
       "      <td>mail.google.com</td>\n",
       "      <td>DsImgCphJpegVpn235</td>\n",
       "    </tr>\n",
       "    <tr>\n",
       "      <th>5</th>\n",
       "      <td>ext234@outlook.com</td>\n",
       "      <td>outlook</td>\n",
       "      <td>ExtendedFourLinux</td>\n",
       "    </tr>\n",
       "    <tr>\n",
       "      <th>6</th>\n",
       "      <td>102995120043@r2.deped.gov.ph</td>\n",
       "      <td>Deped account</td>\n",
       "      <td>Wheniwasakidimanidiotkidlol111</td>\n",
       "    </tr>\n",
       "    <tr>\n",
       "      <th>7</th>\n",
       "      <td>Esa</td>\n",
       "      <td>funami.tech</td>\n",
       "      <td>OhMyShigure2332122</td>\n",
       "    </tr>\n",
       "    <tr>\n",
       "      <th>8</th>\n",
       "      <td>cyrustroy.c.bazar@isu.edu.ph</td>\n",
       "      <td>google.com</td>\n",
       "      <td>isudyante</td>\n",
       "    </tr>\n",
       "    <tr>\n",
       "      <th>9</th>\n",
       "      <td>mark albin</td>\n",
       "      <td>facebook.com</td>\n",
       "      <td>yv61vzWA7cEDnLVA58Il5xIFmcuG2df6ataBTLlNFNLp</td>\n",
       "    </tr>\n",
       "  </tbody>\n",
       "</table>\n",
       "</div>"
      ],
      "text/plain": [
       "                           user          website  \\\n",
       "0                       example          example   \n",
       "1                          test       kernel.org   \n",
       "2                fb(Cyrus Troy)     FAcebook.com   \n",
       "3                    AlieeLinux           Github   \n",
       "4        disperse2863@gmail.com  mail.google.com   \n",
       "5            ext234@outlook.com          outlook   \n",
       "6  102995120043@r2.deped.gov.ph    Deped account   \n",
       "7                           Esa      funami.tech   \n",
       "8  cyrustroy.c.bazar@isu.edu.ph       google.com   \n",
       "9                    mark albin     facebook.com   \n",
       "\n",
       "                                       password  \n",
       "0                                       example  \n",
       "1                                    testing123  \n",
       "2   b6e5nOECr17bdZdbuEwU1OP4Z-Mk2MI7xl4gYBUuvgg  \n",
       "3                              ILoveAiHoshino19  \n",
       "4                            DsImgCphJpegVpn235  \n",
       "5                             ExtendedFourLinux  \n",
       "6                Wheniwasakidimanidiotkidlol111  \n",
       "7                            OhMyShigure2332122  \n",
       "8                                     isudyante  \n",
       "9  yv61vzWA7cEDnLVA58Il5xIFmcuG2df6ataBTLlNFNLp  "
      ]
     },
     "execution_count": 7,
     "metadata": {},
     "output_type": "execute_result"
    }
   ],
   "source": [
    "passwd.ShowPasswords()"
   ]
  },
  {
   "cell_type": "code",
   "execution_count": 8,
   "id": "ae9180d6-184d-40f4-b389-35c7d89e3cc4",
   "metadata": {},
   "outputs": [
    {
     "data": {
      "text/plain": [
       "True"
      ]
     },
     "execution_count": 8,
     "metadata": {},
     "output_type": "execute_result"
    }
   ],
   "source": [
    "enc.decryptpassword()"
   ]
  },
  {
   "cell_type": "code",
   "execution_count": null,
   "id": "7bc9fd98-8e5c-42cd-b9aa-4795ef1211a3",
   "metadata": {},
   "outputs": [],
   "source": []
  }
 ],
 "metadata": {
  "kernelspec": {
   "display_name": "Python 3 (ipykernel)",
   "language": "python",
   "name": "python3"
  },
  "language_info": {
   "codemirror_mode": {
    "name": "ipython",
    "version": 3
   },
   "file_extension": ".py",
   "mimetype": "text/x-python",
   "name": "python",
   "nbconvert_exporter": "python",
   "pygments_lexer": "ipython3",
   "version": "3.13.2"
  }
 },
 "nbformat": 4,
 "nbformat_minor": 5
}
